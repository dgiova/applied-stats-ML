{
  "nbformat": 4,
  "nbformat_minor": 0,
  "metadata": {
    "colab": {
      "name": "gaussian_modeling.ipynb",
      "provenance": []
    },
    "kernelspec": {
      "name": "python3",
      "display_name": "Python 3"
    }
  },
  "cells": [
    {
      "cell_type": "code",
      "metadata": {
        "id": "xOXqOceJTmpc",
        "colab_type": "code",
        "colab": {
          "base_uri": "https://localhost:8080/",
          "height": 51
        },
        "outputId": "37685550-7497-4044-d825-bd37db3ffa10"
      },
      "source": [
        "import random\n",
        "import math\n",
        "%matplotlib inline\n",
        "import matplotlib as mpl\n",
        "import matplotlib.pyplot as plt\n",
        "import networkx as nx\n",
        "import numpy as np\n",
        "import scipy\n",
        "from scipy.optimize import minimize\n",
        "from scipy.stats import gamma, norm\n",
        "import seaborn as sns\n",
        "import time\n",
        "\n",
        "from functools import partial"
      ],
      "execution_count": 1,
      "outputs": [
        {
          "output_type": "stream",
          "text": [
            "/usr/local/lib/python3.6/dist-packages/statsmodels/tools/_testing.py:19: FutureWarning: pandas.util.testing is deprecated. Use the functions in the public API at pandas.testing instead.\n",
            "  import pandas.util.testing as tm\n"
          ],
          "name": "stderr"
        }
      ]
    },
    {
      "cell_type": "code",
      "metadata": {
        "id": "VVnGMiTiUDe3",
        "colab_type": "code",
        "colab": {}
      },
      "source": [
        "N = int(1e5)  # MC iterations\n",
        "def _r(x): return np.round(x, 2)\n",
        "def _CI(mu, std, n=1, z=1): return mu + (z/np.sqrt(n)) * np.array([-std, std])"
      ],
      "execution_count": 2,
      "outputs": []
    },
    {
      "cell_type": "markdown",
      "metadata": {
        "id": "sPhlRhinvf2h",
        "colab_type": "text"
      },
      "source": [
        "# Gaussian Modeling"
      ]
    },
    {
      "cell_type": "markdown",
      "metadata": {
        "id": "3jSC2QSz0ozq",
        "colab_type": "text"
      },
      "source": [
        "## Guassian Random Vectors"
      ]
    },
    {
      "cell_type": "markdown",
      "metadata": {
        "id": "ZjtitVKu0uLj",
        "colab_type": "text"
      },
      "source": [
        "The goal is to generate multi-variate normal random vectors. Consider $d=2$.\n",
        "$$W = N(\\mu, C)$$\n",
        "We reduce to identity, i.e. $C = I$ and thus have independent rvs with zero covariance. Then, we can write W as:\n",
        "$$W = \\mu + BZ$$\n",
        "where $Z = N(0,I)$. Note that we would be essentially generating:\n",
        "$$W = N(\\mu, BIB^T) = N(\\mu, BB^T)$$\n",
        "so we need to find $B$ s.t. $BB^T = C$. \\\\\n",
        "With that form, $B$ is the *square root* of $C$.\n",
        "Among the set of possible *square root* of $C$, we pick the **lower triangular**. We can find it through the **Cholesky factorization** of $C$. \n"
      ]
    },
    {
      "cell_type": "markdown",
      "metadata": {
        "id": "ri6n14Ct77Fl",
        "colab_type": "text"
      },
      "source": [
        "### Step 1\n",
        "We need a way to simulate pairs of standard normals. \\\\\n",
        "If we consider the joint density $f(Z_1, Z_2)$ we notice that presents **radial symmetry** which means that there is no angular preference. \\\\\n",
        "Thus, denoting the angle by $\\theta$ we have that its density is uniform on $[0, 2 \\pi]$. \\\\\n",
        "Moreover, if we consider the point in 2-D denoted by $(Z_1, Z_2)$, we see that we can write:\n",
        "$$Z_1 = R \\cdot cos\\theta$$\n",
        "$$Z_2 = R \\cdot sin\\theta$$\n",
        "where $R^2 = Z_1^2 + Z_2^2$ \\\\\n",
        "We proceed by noticing that the sum of two standard normals is chi-squared distributed with 2 degrees of freedom which in turn is exponetially distributed with mean 2 ($\\lambda = 0.5$). \n",
        "The good news is that we know how to generate exponetials rvs through inverse sampling. The inverse CDF of an exponential is:\n",
        "$$F^{-1} = \\frac{-ln(U)}{\\lambda}$$\n",
        "For each $Z_1, Z_2$ simulation, we generate two uniforms (one for $R$ one for $\\theta$) and then we plug-in the formulas described above obtaining the 2-d multivariate gaussian."
      ]
    },
    {
      "cell_type": "code",
      "metadata": {
        "id": "_jCIzSep0nMP",
        "colab_type": "code",
        "colab": {}
      },
      "source": [
        "def generate_bivariate_gaussian():\n",
        "  U_1, U_2 = np.random.uniform(), np.random.uniform()\n",
        "  R = np.sqrt(-2*np.log(U_1))\n",
        "  theta = 2*math.pi*U_2\n",
        "  return R*np.cos(theta), R*np.sin(theta)\n",
        "\n",
        "N = int(1e6)\n",
        "Z = np.zeros((N,2))\n",
        "for i in range(N):\n",
        "  Z[i,:] = generate_bivariate_gaussian()"
      ],
      "execution_count": 3,
      "outputs": []
    },
    {
      "cell_type": "code",
      "metadata": {
        "id": "dyTa6mGeGTK1",
        "colab_type": "code",
        "colab": {
          "base_uri": "https://localhost:8080/",
          "height": 51
        },
        "outputId": "bfc646ce-59ca-4a11-8900-47985abbd852"
      },
      "source": [
        "print('Mean:', _r(np.mean(Z, axis=0)))\n",
        "print('Variance:', _r(np.var(Z, axis=0)))"
      ],
      "execution_count": 4,
      "outputs": [
        {
          "output_type": "stream",
          "text": [
            "Mean: [0. 0.]\n",
            "Variance: [1. 1.]\n"
          ],
          "name": "stdout"
        }
      ]
    },
    {
      "cell_type": "markdown",
      "metadata": {
        "id": "-BXUVXZxVULN",
        "colab_type": "text"
      },
      "source": [
        "###Step 2\n",
        "Now that we have $Z$, we only need to find $L$ from the Cholesky decomposition and add $\\mu$. \\\\\n",
        "For instance, say we have a problem in which the $W$ follows a multivariate normal distribution with mean $\\mu = [2,3]$ and variance $C = [[2, 0.5], [0.5, 1]]$, i.e. $Var(W_1)=2$, $Var(W_2)=1$, $Cov(W_1,W_2)=0.5$ \\\\\n",
        "After derivation, we can write $L$ as:\n",
        "$$L = [[\\sigma_1, 0],[a, b]]$$\n",
        "with $a = \\rho \\sigma_2$ and $b = \\sigma_2 \\sqrt{1 - \\rho^2}$."
      ]
    },
    {
      "cell_type": "code",
      "metadata": {
        "id": "-aLu4fwyGUPC",
        "colab_type": "code",
        "colab": {
          "base_uri": "https://localhost:8080/",
          "height": 51
        },
        "outputId": "75b7c4d5-f0c0-469b-a69b-87f5804c63c3"
      },
      "source": [
        "# Multivariate normal parameters\n",
        "mu = np.array([2, 3])\n",
        "C = np.array([[2, 0.5],\n",
        "              [0.5, 1]])\n",
        "sigma_1 = np.sqrt(C[0][0])\n",
        "sigma_2 = np.sqrt(C[1][1])\n",
        "rho = C[0][1] / (sigma_1 * sigma_2)\n",
        "\n",
        "# Setting up Cholesky lower triangular\n",
        "a = rho * sigma_2\n",
        "b = sigma_2 * np.sqrt(1-rho**2)\n",
        "L = np.array([[sigma_1, 0],\n",
        "              [a, b]])\n",
        "\n",
        "# Applying transformation and computing W\n",
        "W = np.zeros((N,2))\n",
        "for i in range(N):\n",
        "  W[i,:] = mu + L @ Z[i,:]\n",
        "\n",
        "print('Mean:', _r(np.mean(W, axis=0)))\n",
        "print('Variance:', _r(np.var(W, axis=0)))"
      ],
      "execution_count": 5,
      "outputs": [
        {
          "output_type": "stream",
          "text": [
            "Mean: [2. 3.]\n",
            "Variance: [2. 1.]\n"
          ],
          "name": "stdout"
        }
      ]
    },
    {
      "cell_type": "markdown",
      "metadata": {
        "id": "7zGxyCsuaYE6",
        "colab_type": "text"
      },
      "source": [
        "That's pretty cool!"
      ]
    },
    {
      "cell_type": "markdown",
      "metadata": {
        "id": "OXOVbeV03tv2",
        "colab_type": "text"
      },
      "source": [
        "## Euler–Maruyama method and uses it to solve the Ornstein–Uhlenbeck process"
      ]
    },
    {
      "cell_type": "code",
      "metadata": {
        "id": "z9cK_X9p3tHX",
        "colab_type": "code",
        "colab": {
          "base_uri": "https://localhost:8080/",
          "height": 267
        },
        "outputId": "f044ddd2-97a6-419b-9402-289de00211a7"
      },
      "source": [
        "num_sims = 50  # Display five runs\n",
        "\n",
        "t_init = 3\n",
        "t_end  = 15\n",
        "N      = 1000  # Compute 1000 grid points\n",
        "dt     = float(t_end - t_init) / N\n",
        "y_init = 0\n",
        "\n",
        "c_theta = 0.7\n",
        "c_mu    = 1.5\n",
        "c_sigma = 0.06\n",
        "\n",
        "def mu(y, t):\n",
        "    \"\"\"Implement the Ornstein–Uhlenbeck mu.\"\"\"  # = \\theta (\\mu-Y_t)\n",
        "    return c_theta * (c_mu - y)\n",
        "\n",
        "def sigma(y, t):\n",
        "    \"\"\"Implement the Ornstein–Uhlenbeck sigma.\"\"\"  # = \\sigma\n",
        "    return c_sigma\n",
        "\n",
        "def dW(delta_t):\n",
        "    \"\"\"Sample a random number at each call.\"\"\"\n",
        "    return np.random.normal(loc=0.0, scale=np.sqrt(delta_t))\n",
        "\n",
        "ts    = np.arange(t_init, t_end, dt)\n",
        "ys    = np.zeros(N)\n",
        "\n",
        "ys[0] = y_init\n",
        "\n",
        "for _ in range(num_sims):\n",
        "    for i in range(1, ts.size):\n",
        "        t = (i-1) * dt\n",
        "        y = ys[i-1]\n",
        "        ys[i] = y + mu(y, t) * dt + sigma(y, t) * dW(dt)\n",
        "    plt.plot(ts, ys)\n",
        "\n",
        "plt.show()"
      ],
      "execution_count": 6,
      "outputs": [
        {
          "output_type": "display_data",
          "data": {
            "image/png": "[encoded data removed]",
            "text/plain": [
              "<Figure size 432x288 with 1 Axes>"
            ]
          },
          "metadata": {
            "tags": [],
            "needs_background": "light"
          }
        }
      ]
    }
  ]
}