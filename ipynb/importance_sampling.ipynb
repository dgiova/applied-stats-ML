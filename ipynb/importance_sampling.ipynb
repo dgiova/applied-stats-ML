{
  "nbformat": 4,
  "nbformat_minor": 0,
  "metadata": {
    "colab": {
      "name": "importance_sampling.ipynb",
      "provenance": []
    },
    "kernelspec": {
      "name": "python3",
      "display_name": "Python 3"
    }
  },
  "cells": [
    {
      "cell_type": "code",
      "metadata": {
        "id": "xOXqOceJTmpc",
        "colab_type": "code",
        "colab": {
          "base_uri": "https://localhost:8080/",
          "height": 51
        },
        "outputId": "4dc27abe-dcda-4b63-f46b-97d4fa498524"
      },
      "source": [
        "import random\n",
        "import math\n",
        "%matplotlib inline\n",
        "import matplotlib as mpl\n",
        "import matplotlib.pyplot as plt\n",
        "import networkx as nx\n",
        "import numpy as np\n",
        "import scipy\n",
        "from scipy.optimize import minimize\n",
        "from scipy.stats import gamma, norm\n",
        "import seaborn as sns\n",
        "import time\n",
        "\n",
        "from functools import partial"
      ],
      "execution_count": null,
      "outputs": [
        {
          "output_type": "stream",
          "text": [
            "/usr/local/lib/python3.6/dist-packages/statsmodels/tools/_testing.py:19: FutureWarning: pandas.util.testing is deprecated. Use the functions in the public API at pandas.testing instead.\n",
            "  import pandas.util.testing as tm\n"
          ],
          "name": "stderr"
        }
      ]
    },
    {
      "cell_type": "code",
      "metadata": {
        "id": "VVnGMiTiUDe3",
        "colab_type": "code",
        "colab": {}
      },
      "source": [
        "N = int(1e5)  # MC iterations\n",
        "def _r(x): return np.round(x, 2)\n",
        "def _CI(mu, std, n=1, z=1): return mu + (z/np.sqrt(n)) * np.array([-std, std])"
      ],
      "execution_count": null,
      "outputs": []
    },
    {
      "cell_type": "markdown",
      "metadata": {
        "id": "OuqUVmtVTnaY",
        "colab_type": "text"
      },
      "source": [
        "# Importance Sampling"
      ]
    },
    {
      "cell_type": "markdown",
      "metadata": {
        "id": "g3UmGs8qTrgh",
        "colab_type": "text"
      },
      "source": [
        "Given an expectation of the form $\\alpha = E[h(X)]$, where $X$ is an $R^d$-valued rv with density $f_X(·)$ and $h:R^d \\rightarrow R$, we can express $\\alpha$ as:\n",
        "$$\\alpha = \\int_{R^d} h(x) f_X (x) dx.$$\n",
        "If $g(·)$ is another pdf on $R^d$ for which\n",
        "$$g(x) > 0 \\ \\text{whenever} \\ h(x) f_X (x) > 0$$\n",
        "we can write:\n",
        "$$\\alpha = \\int_{R^d} h(x) \\frac{f_X (x)}{g(x)} g(x) dx$$\n",
        "$$\\alpha = E_g h(x) \\frac{f_X (x)}{g(x)}$$\n",
        "i.e. the expectation under which X had pdf g! \\\\\n",
        "Consequently, we can estimate $\\alpha$ by generating iid copies of the rv $h(x) \\frac{f_X (x)}{g(x)}$, where X now has pdf g. Note that the ratio\n",
        "$$\\frac{f_X (x)}{g(x)}$$\n",
        "is the relative likelihood of observing outcome $X$ under the nomila pdf $f_X(·)$ to that under the new density g. As a result, this rv is often called the **likelihood ratio**. By choosing g so that it samples more important regions of $R^d$ more frequently than does $f_X$, we can obtain a variance reduction."
      ]
    },
    {
      "cell_type": "markdown",
      "metadata": {
        "id": "56F9rX0mWEJm",
        "colab_type": "text"
      },
      "source": [
        "### Application 1: sampling from rare regions of multivariate normal distribution.\n",
        "Suppose that we wish to compute the probability that a bivariate normal rv with mean vector 0 and covariance matrix C lies in the quadrant with lower lefthand vertex at (3, 3). C is given in the code.\n",
        "This is a rare event because the correlation $\\rho = -0.7$, thus it is very unlikely that both are in the same quadrant which is already unlikely per se."
      ]
    },
    {
      "cell_type": "markdown",
      "metadata": {
        "id": "R2GS7Yr9WWYk",
        "colab_type": "text"
      },
      "source": [
        "a) Naive approach: Compute a Monte Carlo estimator for the probability based on n = 1000, 105, and 106 trials, as well\n",
        "as associated approximate 95% confidence intervals"
      ]
    },
    {
      "cell_type": "code",
      "metadata": {
        "id": "LlTEsKYPTJIs",
        "colab_type": "code",
        "colab": {
          "base_uri": "https://localhost:8080/",
          "height": 51
        },
        "outputId": "6b99bcc0-9858-4dbe-f4c4-6f82c8146acd"
      },
      "source": [
        "mu = [0,0]\n",
        "cov = [[1, -0.7], [-0.7, 1]]\n",
        "# for n in [1000, 10**5, 10**6]:\n",
        "n = N\n",
        "x = np.random.multivariate_normal(mu, cov, n)\n",
        "occurrences = np.all(x > 3, axis=1)\n",
        "p = sum(occurrences) / n\n",
        "sigma = np.sqrt(sum((occurrences - p)**2) / (n-1))\n",
        "deviation = 1.96 * sigma / np.sqrt(n)\n",
        "CI = p + np.array([-deviation,deviation])\n",
        "print(\"Size:\", n)\n",
        "print(\"Probability:\", p, \"| CI:\", CI)"
      ],
      "execution_count": null,
      "outputs": [
        {
          "output_type": "stream",
          "text": [
            "Size: 100000\n",
            "Probability: 0.0 | CI: [0. 0.]\n"
          ],
          "name": "stdout"
        }
      ]
    },
    {
      "cell_type": "markdown",
      "metadata": {
        "id": "FEq9ffemc3HT",
        "colab_type": "text"
      },
      "source": [
        "b)\n",
        "\n",
        "We choose as $g(x)$ a multivariate normal with $\\mu = [3.5,3.5]$ and same covariance matrix as $f(x)$; $g(x)$ will be very likely to yield values that occur in the quadrant of interest and will thus allow us to estimate the probability."
      ]
    },
    {
      "cell_type": "code",
      "metadata": {
        "id": "caaFPJXSc0ID",
        "colab_type": "code",
        "colab": {
          "base_uri": "https://localhost:8080/",
          "height": 51
        },
        "outputId": "3ca1703f-ff5e-4c80-a78a-736dece18256"
      },
      "source": [
        "mu_f = np.zeros(2)\n",
        "mu_g = np.array([3.5,3.5])\n",
        "cov = [[1, -0.7], [-0.7, 1]]  # same covariance matrix\n",
        "\n",
        "def mvnormal_pdf(x, mu, cov):\n",
        "  centered = np.array(x - mu)\n",
        "  # no need to compute the determinant because it'll cancel out when taking the ratio.\n",
        "  return np.exp(-0.5*(centered.T @ np.linalg.inv(cov) @ centered))\n",
        "\n",
        "# for n in [1000, 10**5, 10**6]:\n",
        "n = N\n",
        "x_f = np.random.multivariate_normal(mu_f, cov, n)\n",
        "x_g = np.random.multivariate_normal(mu_g, cov, n)\n",
        "# Check if x_g is in quadrant\n",
        "X_g = np.all(x_g > 3, axis=1)\n",
        "# Compute probability from pdf\n",
        "fx = np.array([mvnormal_pdf(x_g[i], mu_f, cov) for i in range(n)])\n",
        "gx = np.array([mvnormal_pdf(x_g[i], mu_g, cov) for i in range(n)])\n",
        "X_f = X_g * fx / gx\n",
        "\n",
        "p = np.mean(X_f)\n",
        "sigma = np.sqrt(sum((X_f - p)**2) / (n-1))\n",
        "deviation = 1.96 * sigma / np.sqrt(n)\n",
        "CI = p + np.array([-deviation,deviation])\n",
        "print(\"Size\", n)\n",
        "print(\"Probability\", p, \"| CI:\", CI)"
      ],
      "execution_count": null,
      "outputs": [
        {
          "output_type": "stream",
          "text": [
            "Size 100000\n",
            "Probability 2.064581003302526e-16 | CI: [1.86867657e-16 2.26048544e-16]\n"
          ],
          "name": "stdout"
        }
      ]
    },
    {
      "cell_type": "markdown",
      "metadata": {
        "id": "BriJJUe_eblB",
        "colab_type": "text"
      },
      "source": [
        "\n",
        "Without importance sampling, Monte Carlo simply estimates that it never happens because it is so rare. Using an appropriately centered distribution for importance sampling , we arrive at good estimates for the probability at hand. \\\\\n",
        "Let (X,Y) ∈ N(0,C). Then good choices for importance sampling distributions have the\n",
        "property that they are good approximations of the conditional distribution (X, Y )|{X ≥ 3, Y ≥ 3}. Thus, a good choice for the importance sampling distribution has most of its mass in the lower-right corner of the quadrant x ≥ 3,y ≥ 3."
      ]
    }
  ]
}