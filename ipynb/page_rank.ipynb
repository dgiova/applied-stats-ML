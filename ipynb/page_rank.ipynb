{
  "nbformat": 4,
  "nbformat_minor": 0,
  "metadata": {
    "colab": {
      "name": "page_rank.ipynb",
      "provenance": []
    },
    "kernelspec": {
      "name": "python3",
      "display_name": "Python 3"
    }
  },
  "cells": [
    {
      "cell_type": "code",
      "metadata": {
        "id": "xOXqOceJTmpc",
        "colab_type": "code",
        "colab": {
          "base_uri": "https://localhost:8080/",
          "height": 51
        },
        "outputId": "0cf7454d-ed16-44af-a82d-b599c9793256"
      },
      "source": [
        "import random\n",
        "import math\n",
        "%matplotlib inline\n",
        "import matplotlib as mpl\n",
        "import matplotlib.pyplot as plt\n",
        "import networkx as nx\n",
        "import numpy as np\n",
        "import scipy\n",
        "from scipy.optimize import minimize\n",
        "from scipy.stats import gamma, norm\n",
        "import seaborn as sns\n",
        "import time\n",
        "\n",
        "from functools import partial"
      ],
      "execution_count": 1,
      "outputs": [
        {
          "output_type": "stream",
          "text": [
            "/usr/local/lib/python3.6/dist-packages/statsmodels/tools/_testing.py:19: FutureWarning: pandas.util.testing is deprecated. Use the functions in the public API at pandas.testing instead.\n",
            "  import pandas.util.testing as tm\n"
          ],
          "name": "stderr"
        }
      ]
    },
    {
      "cell_type": "code",
      "metadata": {
        "id": "VVnGMiTiUDe3",
        "colab_type": "code",
        "colab": {}
      },
      "source": [
        "N = int(1e5)  # MC iterations\n",
        "def _r(x): return np.round(x, 2)\n",
        "def _CI(mu, std, n=1, z=1): return mu + (z/np.sqrt(n)) * np.array([-std, std])"
      ],
      "execution_count": 2,
      "outputs": []
    },
    {
      "cell_type": "markdown",
      "metadata": {
        "id": "zolFYJZZE31J",
        "colab_type": "text"
      },
      "source": [
        "# Page Rank"
      ]
    },
    {
      "cell_type": "code",
      "metadata": {
        "id": "8vLGkqykE27C",
        "colab_type": "code",
        "colab": {}
      },
      "source": [
        "P = np.array([[1, 0, 0, 0, 0, 0],\n",
        "              [.5, 0, .5, 0, 0, 0],\n",
        "              [0, 0, 0, 0, 1, 0],\n",
        "              [0, 1/3, 1/3, 0, 1/3, 0],\n",
        "              [0, 0, 0, 0, 0, 1],\n",
        "              [0, 0, 0, 0, 1, 0]])"
      ],
      "execution_count": 3,
      "outputs": []
    },
    {
      "cell_type": "markdown",
      "metadata": {
        "id": "dLiWqmqQF90y",
        "colab_type": "text"
      },
      "source": [
        "Look at $P^T$ because I want the **left** eigenvectors and eigenvalues of $P$ for the **stationary distribution**. (np.linalg.eig returns the right eigenvectors)"
      ]
    },
    {
      "cell_type": "code",
      "metadata": {
        "id": "xrK2F033E8Rl",
        "colab_type": "code",
        "colab": {
          "base_uri": "https://localhost:8080/",
          "height": 34
        },
        "outputId": "f8044f82-88c9-487d-8de0-4f10d8317757"
      },
      "source": [
        "vals, vecs = np.linalg.eig(P.T)\n",
        "vals"
      ],
      "execution_count": 4,
      "outputs": [
        {
          "output_type": "execute_result",
          "data": {
            "text/plain": [
              "array([ 1., -1.,  1.,  0.,  0.,  0.])"
            ]
          },
          "metadata": {
            "tags": []
          },
          "execution_count": 4
        }
      ]
    },
    {
      "cell_type": "markdown",
      "metadata": {
        "id": "WD7QNOLUG_nt",
        "colab_type": "text"
      },
      "source": [
        "Because we want to avoid spider traps, i.e. want to make the Markov Chain **irreducible** and **aperiodic**, we *jump* with probability $\\alpha = 1/4$ uniformly on one of the nodes; thus, we'll have the matrix $U$ which is stochastic with 1/6 as all elements:\n",
        "$$U = \\frac{e e^T}{6}$$\n",
        "with $e$ being the vector of ones.\n",
        "$$P_{pagerank} = \\alpha U + (1 - \\alpha) P$$ "
      ]
    },
    {
      "cell_type": "code",
      "metadata": {
        "id": "WYcevSEdE8-i",
        "colab_type": "code",
        "colab": {}
      },
      "source": [
        "alpha = 1/4\n",
        "e = np.ones(len(P))\n",
        "U = (1 / len(P)) * np.outer(e, e.T)"
      ],
      "execution_count": 5,
      "outputs": []
    },
    {
      "cell_type": "code",
      "metadata": {
        "id": "tpYgFrBeE9h3",
        "colab_type": "code",
        "colab": {}
      },
      "source": [
        "PR = alpha*U + (1-alpha)*P"
      ],
      "execution_count": 6,
      "outputs": []
    },
    {
      "cell_type": "code",
      "metadata": {
        "id": "dhUfG1wkIUdg",
        "colab_type": "code",
        "colab": {}
      },
      "source": [
        "vals, vecs = np.linalg.eig(PR.T)"
      ],
      "execution_count": 7,
      "outputs": []
    },
    {
      "cell_type": "markdown",
      "metadata": {
        "id": "p3dK2HMgJBMb",
        "colab_type": "text"
      },
      "source": [
        "Check importance of nodes:\n",
        "- Assert first eigenvalue is one\n",
        "- Grab the real part of first eigenvector (corresposnding to eigenvalue one) and normalize it."
      ]
    },
    {
      "cell_type": "code",
      "metadata": {
        "id": "8DADXNg1JUOA",
        "colab_type": "code",
        "colab": {
          "base_uri": "https://localhost:8080/",
          "height": 34
        },
        "outputId": "a73d935a-3648-4a96-d4a0-0ce608c49d00"
      },
      "source": [
        "assert(np.isclose(np.real(vals[0]), 1))\n",
        "pi =  np.real(vecs[:,0] / np.sum(vecs[:,0]))\n",
        "print('Stationary distribution:', pi)"
      ],
      "execution_count": 8,
      "outputs": [
        {
          "output_type": "stream",
          "text": [
            "Stationary distribution: [0.24479167 0.05208333 0.07161458 0.04166667 0.31324405 0.2765997 ]\n"
          ],
          "name": "stdout"
        }
      ]
    },
    {
      "cell_type": "markdown",
      "metadata": {
        "id": "Lxgoll-MIuW9",
        "colab_type": "text"
      },
      "source": [
        "Compute **return time** $\\mu_i$. Once I know the stationary distribution, it's just:\n",
        "$$\\mu_i = \\frac{1}{\\pi_i}$$"
      ]
    },
    {
      "cell_type": "markdown",
      "metadata": {
        "id": "W6h9szdcLqk0",
        "colab_type": "text"
      },
      "source": [
        "Compute **hitting time** to $C^C = 3$. For all the states that are different than 3:\n",
        "$$u(x) = 1 +  \\sum_{y \\in S} P(x, y) u(y)$$\n",
        "$$u(3) = 0$$\n",
        "When I use the second condition, I basically zero-out the transition probabilities to 3.\n"
      ]
    },
    {
      "cell_type": "code",
      "metadata": {
        "id": "AvYOls2qE924",
        "colab_type": "code",
        "colab": {
          "base_uri": "https://localhost:8080/",
          "height": 34
        },
        "outputId": "52718131-b30a-476d-bf54-22ae38081c93"
      },
      "source": [
        "B = np.copy(PR)\n",
        "B[:, 2] = 0\n",
        "I = np.eye(len(B))\n",
        "_r(np.linalg.solve(I - B, e)[2])"
      ],
      "execution_count": 9,
      "outputs": [
        {
          "output_type": "execute_result",
          "data": {
            "text/plain": [
              "13.96"
            ]
          },
          "metadata": {
            "tags": []
          },
          "execution_count": 9
        }
      ]
    }
  ]
}