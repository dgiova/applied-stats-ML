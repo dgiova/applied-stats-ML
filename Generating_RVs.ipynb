{
  "nbformat": 4,
  "nbformat_minor": 0,
  "metadata": {
    "colab": {
      "name": "Generating_RVs.ipynb",
      "provenance": [],
      "collapsed_sections": []
    },
    "kernelspec": {
      "name": "python3",
      "display_name": "Python 3"
    }
  },
  "cells": [
    {
      "cell_type": "code",
      "metadata": {
        "id": "xOXqOceJTmpc",
        "colab_type": "code",
        "colab": {
          "base_uri": "https://localhost:8080/",
          "height": 71
        },
        "outputId": "554d74e8-9989-4adc-8dc8-6fb9ee138835"
      },
      "source": [
        "import random\n",
        "import math\n",
        "%matplotlib inline\n",
        "import matplotlib as mpl\n",
        "import matplotlib.pyplot as plt\n",
        "import networkx as nx\n",
        "import numpy as np\n",
        "import scipy\n",
        "from scipy.optimize import minimize\n",
        "from scipy.stats import gamma, norm\n",
        "import seaborn as sns\n",
        "import time\n",
        "\n",
        "from functools import partial"
      ],
      "execution_count": 1,
      "outputs": [
        {
          "output_type": "stream",
          "text": [
            "/usr/local/lib/python3.6/dist-packages/statsmodels/tools/_testing.py:19: FutureWarning: pandas.util.testing is deprecated. Use the functions in the public API at pandas.testing instead.\n",
            "  import pandas.util.testing as tm\n"
          ],
          "name": "stderr"
        }
      ]
    },
    {
      "cell_type": "code",
      "metadata": {
        "id": "VVnGMiTiUDe3",
        "colab_type": "code",
        "colab": {}
      },
      "source": [
        "N = int(1e5)  # MC iterations\n",
        "def _r(x): return np.round(x, 2)\n",
        "def _CI(mu, std, n=1, z=1): return mu + (z/np.sqrt(n)) * np.array([-std, std])"
      ],
      "execution_count": 2,
      "outputs": []
    },
    {
      "cell_type": "markdown",
      "metadata": {
        "id": "Y4GAu-H4jxEx",
        "colab_type": "text"
      },
      "source": [
        "# Generating Random Variables\n",
        "\n",
        "Given: A sequence $U_1, U_2, \\dots$ of iid uniform (0, 1) random variables\n",
        "Goal: A sequence $X_1, X_2, \\dots$ of iid random variables with **cumulative distribution function** $F(·)$."
      ]
    },
    {
      "cell_type": "markdown",
      "metadata": {
        "id": "SMrjaGDMkIhH",
        "colab_type": "text"
      },
      "source": [
        "## Method 1: Inversion\n",
        "\n",
        "Note that the function $F(·)$ is non-decreasing. Such a non-decreasing function possesses a generalized function inverse, given by:\n",
        "$$F^{-1}(x) = \\text{inf} \\{ y : F(y) \\geq x \\}$$\n",
        "or in  other words, $x$ is the quantile s.t. when we pass $y$ through the cdf we get a probability $\\geq x$. \\\\\n",
        "If F is continuous and strictly increasing, the generalized inverse is a function for which:\n",
        "$$F(F^{-1}(x)) = F^{-1}(F(x)) = x$$\n"
      ]
    },
    {
      "cell_type": "markdown",
      "metadata": {
        "id": "UwFMY1VZlsvQ",
        "colab_type": "text"
      },
      "source": [
        "### Example 1: exponential distribution.\n",
        "\n",
        "The exponential distribution with parameter $\\lambda$ (rate, inverse scale) has inverse cdf (or quantile function) equal to:\n",
        "$$F^{-1} = -\\frac{ln(1 - U)}{\\lambda} = -\\frac{ln(U)}{\\lambda}$$ \n",
        "Let's generate samples from $X \\sim Exp(2)$."
      ]
    },
    {
      "cell_type": "code",
      "metadata": {
        "id": "Jz_4fZXijwSV",
        "colab_type": "code",
        "colab": {
          "base_uri": "https://localhost:8080/",
          "height": 51
        },
        "outputId": "d09be38a-afd3-46bc-ad0e-502c86122d7a"
      },
      "source": [
        "def exp_quantile(U, lambd=1): return -np.log(U) / lambd\n",
        "\n",
        "lambd = 2\n",
        "U = np.random.uniform(size=N)\n",
        "X = np.fromiter(map(partial(exp_quantile, lambd=lambd), U),\n",
        "                dtype=float)\n",
        "\n",
        "print(np.mean(X))\n",
        "print(np.var(X))"
      ],
      "execution_count": 3,
      "outputs": [
        {
          "output_type": "stream",
          "text": [
            "0.5020219474957872\n",
            "0.2507460677287859\n"
          ],
          "name": "stdout"
        }
      ]
    },
    {
      "cell_type": "code",
      "metadata": {
        "id": "rbgRKKhyqbWT",
        "colab_type": "code",
        "colab": {
          "base_uri": "https://localhost:8080/",
          "height": 281
        },
        "outputId": "46fd7d21-8195-40d4-e616-0bc24183bc75"
      },
      "source": [
        "plt.hist(X, bins=100)\n",
        "plt.title('Exponential r.v. with lambd 2 from inverse sampling (N=1e5)') \n",
        "plt.show()"
      ],
      "execution_count": 4,
      "outputs": [
        {
          "output_type": "display_data",
          "data": {
            "image/png": "[encoded data removed]",
            "text/plain": [
              "<Figure size 432x288 with 1 Axes>"
            ]
          },
          "metadata": {
            "tags": [],
            "needs_background": "light"
          }
        }
      ]
    },
    {
      "cell_type": "code",
      "metadata": {
        "id": "QM9H4ruRttLA",
        "colab_type": "code",
        "colab": {
          "base_uri": "https://localhost:8080/",
          "height": 51
        },
        "outputId": "fc8f5878-5a07-48fa-ad0a-5bced8a633c4"
      },
      "source": [
        "X_np = np.random.exponential(scale=1/lambd, size=N)\n",
        "\n",
        "print(np.mean(X_np))\n",
        "print(np.var(X_np))"
      ],
      "execution_count": 5,
      "outputs": [
        {
          "output_type": "stream",
          "text": [
            "0.5016825197189847\n",
            "0.24885135367313185\n"
          ],
          "name": "stdout"
        }
      ]
    },
    {
      "cell_type": "code",
      "metadata": {
        "id": "2C5v8K3WtW2t",
        "colab_type": "code",
        "colab": {
          "base_uri": "https://localhost:8080/",
          "height": 281
        },
        "outputId": "ba31db1a-7d0a-4c8b-b689-add8c53adefe"
      },
      "source": [
        "plt.hist(X_np, bins=100)\n",
        "plt.title('Exponential r.v. with lambd 2 from numpy (N=1e5)')\n",
        "plt.show()"
      ],
      "execution_count": 6,
      "outputs": [
        {
          "output_type": "display_data",
          "data": {
            "image/png": "[encoded data removed]",
            "text/plain": [
              "<Figure size 432x288 with 1 Axes>"
            ]
          },
          "metadata": {
            "tags": [],
            "needs_background": "light"
          }
        }
      ]
    },
    {
      "cell_type": "markdown",
      "metadata": {
        "id": "zYL3ioGMurzA",
        "colab_type": "text"
      },
      "source": [
        "## Method 2: Acceptance-Rejection\n",
        "\n",
        "F has a probability density function\n",
        "f(x).\n",
        "The basic idea is to find an alternative probability distribution G, with density function g(x),\n",
        "from which we already have an efficient algorithm for generating from (e.g., inverse transform\n",
        "method), but also such that the function g(x) is “close” to f(x). In particular, we\n",
        "assume that the ratio f(x)/g(x) is bounded by a constant $c > 0$:\n",
        "$$\\text{sup}_x \\frac{f(x)}{g(x)} \\leq c$$\n",
        "(And\n",
        "in practice we would want c as close to 1 as possible.)\n",
        "\n",
        "Here then is the algorithm for generating X distributed as F:\n",
        "- Generate rv Y from G\n",
        "- Generate U\n",
        "- If $$U \\leq \\frac{f(Y)}{c \\cdot g(Y)}$$ accept (X = Y).\n",
        "\n",
        "\n",
        "In the end we obtain our X as having the conditional distribution of a Y given that the\n",
        "event \n",
        "$$U \\leq \\frac{f(Y)}{c \\cdot g(Y)}$$\n",
        "occurs\n"
      ]
    },
    {
      "cell_type": "markdown",
      "metadata": {
        "id": "8-xObtf50QSx",
        "colab_type": "text"
      },
      "source": [
        "### Example: Normal distribution\n",
        "\n",
        "Goal: generate $X \\sim N(\\mu, \\sigma^2)$. \\\\\n",
        "We know that: $X = \\mu + \\sigma Z$ where $Z \\sim N(0, 1)$. \\\\\n",
        "Note that if we can generate from the absolute value, $|Z|$, then by symmetry we can obtain our\n",
        "$Z$ by independently generating a rv $S$ (for sign) that is $\\pm 1$ with probability 1/2 and setting $Z = S|Z|$.\n",
        "\n",
        "So, $|Z|$ is the target rv with density:\n",
        "$$f_{|Z|} = \\frac{2}{\\sqrt{2 \\pi}} e^{-x^2 / 2}, \\qquad x \\geq 0.$$\n",
        "\n",
        "For the alternative method, choose $g(x) = e^{-x}, \\quad x \\geq 0$, i.e. exponential density with $\\lambda = 1$.\n",
        "\n",
        "Now we have to compute the bound $c$ of the ratio of the two densites. To do that, compute the ration, take the derivative and set to zero. We find that:\n",
        "$$c = \\sqrt{2e / \\pi}$$\n",
        "so $$\\frac{f(y)}{c \\cdot g(y)} = e^{-\\frac{1}{2}(y-1)^2}$$\n",
        "\n",
        "We are now ready to generate $Z \\sim N(0,1)$!\n"
      ]
    },
    {
      "cell_type": "code",
      "metadata": {
        "id": "799_eu1m5rFf",
        "colab_type": "code",
        "colab": {
          "base_uri": "https://localhost:8080/",
          "height": 265
        },
        "outputId": "74de87ee-e136-49e7-a130-7c12a923c3ba"
      },
      "source": [
        "Z = []\n",
        "for _ in range(N):\n",
        "  U_1, U_2, U_3 = np.random.uniform(), np.random.uniform(), np.random.uniform()\n",
        "  Y = exp_quantile(U_1)\n",
        "  if U_2 <= np.exp(-0.5 * (Y - 1)**2):\n",
        "     Z.append(Y) if U_3 <= 0.5 else Z.append(-Y)\n",
        "\n",
        "plt.hist(Z, bins=100); plt.show()"
      ],
      "execution_count": 7,
      "outputs": [
        {
          "output_type": "display_data",
          "data": {
            "image/png": "[encoded data removed]",
            "text/plain": [
              "<Figure size 432x288 with 1 Axes>"
            ]
          },
          "metadata": {
            "tags": [],
            "needs_background": "light"
          }
        }
      ]
    },
    {
      "cell_type": "markdown",
      "metadata": {
        "id": "4A4SEw4r7eJx",
        "colab_type": "text"
      },
      "source": [
        "Improvement. Note that:\n",
        "\n",
        "$$U \\leq e^{-\\frac{1}{2} \\cdot (Y - 1)^2)}$$\n",
        "$$log(U) \\leq -\\frac{1}{2} \\cdot (Y - 1)^2$$\n",
        "$$-log(U) \\geq \\frac{1}{2} \\cdot (Y - 1)^2$$\n",
        "\n",
        "where $-log(U)$ is exponential with $\\lambda = 1$. \\\\\n",
        "The updated algo is:\n",
        "\n"
      ]
    },
    {
      "cell_type": "code",
      "metadata": {
        "id": "2yNZAOgc7aIk",
        "colab_type": "code",
        "colab": {
          "base_uri": "https://localhost:8080/",
          "height": 265
        },
        "outputId": "6846eb36-9f52-44c0-80c1-135bf6e988fa"
      },
      "source": [
        "Z = []\n",
        "for _ in range(N):\n",
        "  U_1, U_2, U_3 = np.random.uniform(), np.random.uniform(), np.random.uniform()\n",
        "  Y_1, Y_2 = exp_quantile(U_1), exp_quantile(U_2)\n",
        "  if Y_2 >= (Y_1 - 1)**2 / 2:\n",
        "    Z.append(Y_1) if U_3 <= 0.5 else Z.append(-Y_1)\n",
        "      \n",
        "plt.hist(Z, bins=100); plt.show()"
      ],
      "execution_count": 8,
      "outputs": [
        {
          "output_type": "display_data",
          "data": {
            "image/png": "[encoded data removed]",
            "text/plain": [
              "<Figure size 432x288 with 1 Axes>"
            ]
          },
          "metadata": {
            "tags": [],
            "needs_background": "light"
          }
        }
      ]
    },
    {
      "cell_type": "code",
      "metadata": {
        "id": "PoZu8lXYmyKY",
        "colab_type": "code",
        "colab": {}
      },
      "source": [
        ""
      ],
      "execution_count": 8,
      "outputs": []
    }
  ]
}